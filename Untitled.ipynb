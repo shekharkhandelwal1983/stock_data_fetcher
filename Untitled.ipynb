{
 "cells": [
  {
   "cell_type": "code",
   "execution_count": 1,
   "id": "6985f4ad-6b8c-4539-9da8-8205f2dee2c7",
   "metadata": {},
   "outputs": [],
   "source": [
    "def get_stock_data(tickerSymbol, start_date, end_date):\n",
    "    import yfinance as yf\n",
    "\n",
    "    # Define the ticker symbol\n",
    "    #tickerSymbol = 'TSLA'\n",
    "\n",
    "    # Get data on this ticker\n",
    "    tickerData = yf.Ticker(tickerSymbol)\n",
    "\n",
    "    # Get the historical prices for this ticker\n",
    "    tickerDf = tickerData.history(period='1d', start=start_date, end=end_date)\n",
    "\n",
    "    # process datetime column\n",
    "    tickerDf.reset_index(inplace=True)\n",
    "    for column in tickerDf.columns:\n",
    "        if pd.api.types.is_datetime64tz_dtype(tickerDf[column]):\n",
    "            tickerDf[column] = tickerDf[column].dt.tz_localize(None)\n",
    "\n",
    "\n",
    "    # create stock column\n",
    "    tickerDf[\"stock\"]=tickerSymbol\n",
    "\n",
    "    return tickerDf\n",
    "   \n"
   ]
  },
  {
   "cell_type": "code",
   "execution_count": 3,
   "id": "fa315e09-f37c-4b04-9097-7a2a5a86f38b",
   "metadata": {},
   "outputs": [],
   "source": [
    "tickerDf = get_stock_data('TSLA', '2020-1-1', '2020-12-31')\n",
    "# save as excel\n",
    "#tickerDf[[\"stock\",\"Date\",\"Open\",\"High\",\"Low\",\"Close\"]].to_excel(f\"{tickerSymbol}_stock_data.xlsx\", index=False)\n",
    "\n",
    "# save as csv\n",
    "#tickerDf[[\"stock\",\"Date\",\"Open\",\"High\",\"Low\",\"Close\"]].to_csv(f\"{tickerSymbol}_stock_data.csv\", index=False)"
   ]
  },
  {
   "cell_type": "code",
   "execution_count": 4,
   "id": "a8c7c6aa-0dd4-45d6-a447-588ea3e7b83f",
   "metadata": {},
   "outputs": [
    {
     "data": {
      "text/html": [
       "<div><div id=fbb9e3c0-989c-432d-90c4-025e812af755 style=\"display:none; background-color:#9D6CFF; color:white; width:200px; height:30px; padding-left:5px; border-radius:4px; flex-direction:row; justify-content:space-around; align-items:center;\" onmouseover=\"this.style.backgroundColor='#BA9BF8'\" onmouseout=\"this.style.backgroundColor='#9D6CFF'\" onclick=\"window.commands?.execute('create-mitosheet-from-dataframe-output');\">See Full Dataframe in Mito</div> <script> if (window.commands?.hasCommand('create-mitosheet-from-dataframe-output')) document.getElementById('fbb9e3c0-989c-432d-90c4-025e812af755').style.display = 'flex' </script> <table border=\"1\" class=\"dataframe\">\n",
       "  <thead>\n",
       "    <tr style=\"text-align: right;\">\n",
       "      <th></th>\n",
       "      <th>Date</th>\n",
       "      <th>Open</th>\n",
       "      <th>High</th>\n",
       "      <th>Low</th>\n",
       "      <th>Close</th>\n",
       "      <th>Volume</th>\n",
       "      <th>Dividends</th>\n",
       "      <th>Stock Splits</th>\n",
       "      <th>stock</th>\n",
       "    </tr>\n",
       "  </thead>\n",
       "  <tbody>\n",
       "    <tr>\n",
       "      <th>0</th>\n",
       "      <td>2020-01-02</td>\n",
       "      <td>28.299999</td>\n",
       "      <td>28.713333</td>\n",
       "      <td>28.114000</td>\n",
       "      <td>28.684000</td>\n",
       "      <td>142981500</td>\n",
       "      <td>0.0</td>\n",
       "      <td>0.0</td>\n",
       "      <td>TSLA</td>\n",
       "    </tr>\n",
       "    <tr>\n",
       "      <th>1</th>\n",
       "      <td>2020-01-03</td>\n",
       "      <td>29.366667</td>\n",
       "      <td>30.266666</td>\n",
       "      <td>29.128000</td>\n",
       "      <td>29.534000</td>\n",
       "      <td>266677500</td>\n",
       "      <td>0.0</td>\n",
       "      <td>0.0</td>\n",
       "      <td>TSLA</td>\n",
       "    </tr>\n",
       "    <tr>\n",
       "      <th>2</th>\n",
       "      <td>2020-01-06</td>\n",
       "      <td>29.364668</td>\n",
       "      <td>30.104000</td>\n",
       "      <td>29.333332</td>\n",
       "      <td>30.102667</td>\n",
       "      <td>151995000</td>\n",
       "      <td>0.0</td>\n",
       "      <td>0.0</td>\n",
       "      <td>TSLA</td>\n",
       "    </tr>\n",
       "    <tr>\n",
       "      <th>3</th>\n",
       "      <td>2020-01-07</td>\n",
       "      <td>30.760000</td>\n",
       "      <td>31.441999</td>\n",
       "      <td>30.224001</td>\n",
       "      <td>31.270666</td>\n",
       "      <td>268231500</td>\n",
       "      <td>0.0</td>\n",
       "      <td>0.0</td>\n",
       "      <td>TSLA</td>\n",
       "    </tr>\n",
       "    <tr>\n",
       "      <th>4</th>\n",
       "      <td>2020-01-08</td>\n",
       "      <td>31.580000</td>\n",
       "      <td>33.232666</td>\n",
       "      <td>31.215334</td>\n",
       "      <td>32.809334</td>\n",
       "      <td>467164500</td>\n",
       "      <td>0.0</td>\n",
       "      <td>0.0</td>\n",
       "      <td>TSLA</td>\n",
       "    </tr>\n",
       "  </tbody>\n",
       "</table></div>"
      ],
      "text/plain": [
       "        Date       Open       High        Low      Close     Volume  \\\n",
       "0 2020-01-02  28.299999  28.713333  28.114000  28.684000  142981500   \n",
       "1 2020-01-03  29.366667  30.266666  29.128000  29.534000  266677500   \n",
       "2 2020-01-06  29.364668  30.104000  29.333332  30.102667  151995000   \n",
       "3 2020-01-07  30.760000  31.441999  30.224001  31.270666  268231500   \n",
       "4 2020-01-08  31.580000  33.232666  31.215334  32.809334  467164500   \n",
       "\n",
       "   Dividends  Stock Splits stock  \n",
       "0        0.0           0.0  TSLA  \n",
       "1        0.0           0.0  TSLA  \n",
       "2        0.0           0.0  TSLA  \n",
       "3        0.0           0.0  TSLA  \n",
       "4        0.0           0.0  TSLA  "
      ]
     },
     "execution_count": 4,
     "metadata": {},
     "output_type": "execute_result"
    }
   ],
   "source": [
    "tickerDf.head()"
   ]
  },
  {
   "cell_type": "code",
   "execution_count": null,
   "id": "f8945f09-d603-4564-b5b4-83d7052600a4",
   "metadata": {},
   "outputs": [],
   "source": []
  },
  {
   "cell_type": "code",
   "execution_count": 5,
   "id": "95fc8c93-7f46-4a0b-a779-ddd7d11fb73e",
   "metadata": {},
   "outputs": [
    {
     "name": "stdout",
     "output_type": "stream",
     "text": [
      " * Serving Flask app '__main__'\n",
      " * Debug mode: on\n"
     ]
    },
    {
     "name": "stderr",
     "output_type": "stream",
     "text": [
      "WARNING: This is a development server. Do not use it in a production deployment. Use a production WSGI server instead.\n",
      " * Running on http://127.0.0.1:5000\n",
      "Press CTRL+C to quit\n",
      " * Restarting with watchdog (fsevents)\n",
      "Traceback (most recent call last):\n",
      "  File \"/Users/shekharkhandelwal/opt/anaconda3/lib/python3.10/site-packages/ipykernel_launcher.py\", line 15, in <module>\n",
      "    from ipykernel import kernelapp as app\n",
      "  File \"/Users/shekharkhandelwal/opt/anaconda3/lib/python3.10/site-packages/ipykernel/__init__.py\", line 5, in <module>\n",
      "    from .connect import *  # noqa\n",
      "  File \"/Users/shekharkhandelwal/opt/anaconda3/lib/python3.10/site-packages/ipykernel/connect.py\", line 11, in <module>\n",
      "    import jupyter_client\n",
      "  File \"/Users/shekharkhandelwal/opt/anaconda3/lib/python3.10/site-packages/jupyter_client/__init__.py\", line 8, in <module>\n",
      "    from .asynchronous import AsyncKernelClient  # noqa\n",
      "  File \"/Users/shekharkhandelwal/opt/anaconda3/lib/python3.10/site-packages/jupyter_client/asynchronous/__init__.py\", line 1, in <module>\n",
      "    from .client import AsyncKernelClient  # noqa\n",
      "  File \"/Users/shekharkhandelwal/opt/anaconda3/lib/python3.10/site-packages/jupyter_client/asynchronous/client.py\", line 8, in <module>\n",
      "    from jupyter_client.client import KernelClient\n",
      "  File \"/Users/shekharkhandelwal/opt/anaconda3/lib/python3.10/site-packages/jupyter_client/client.py\", line 21, in <module>\n",
      "    from .connect import ConnectionFileMixin\n",
      "  File \"/Users/shekharkhandelwal/opt/anaconda3/lib/python3.10/site-packages/jupyter_client/connect.py\", line 27, in <module>\n",
      "    from jupyter_core.paths import jupyter_data_dir\n",
      "  File \"/Users/shekharkhandelwal/opt/anaconda3/lib/python3.10/site-packages/jupyter_core/paths.py\", line 19, in <module>\n",
      "    from pathlib import Path\n",
      "  File \"/Users/shekharkhandelwal/opt/anaconda3/lib/python3.10/site-packages/pathlib.py\", line 10, in <module>\n",
      "    from collections import Sequence\n",
      "ImportError: cannot import name 'Sequence' from 'collections' (/Users/shekharkhandelwal/opt/anaconda3/lib/python3.10/collections/__init__.py)\n"
     ]
    },
    {
     "ename": "SystemExit",
     "evalue": "1",
     "output_type": "error",
     "traceback": [
      "An exception has occurred, use %tb to see the full traceback.\n",
      "\u001b[0;31mSystemExit\u001b[0m\u001b[0;31m:\u001b[0m 1\n"
     ]
    },
    {
     "name": "stderr",
     "output_type": "stream",
     "text": [
      "/Users/shekharkhandelwal/opt/anaconda3/lib/python3.10/site-packages/IPython/core/interactiveshell.py:3516: UserWarning: To exit: use 'exit', 'quit', or Ctrl-D.\n",
      "  warn(\"To exit: use 'exit', 'quit', or Ctrl-D.\", stacklevel=1)\n"
     ]
    }
   ],
   "source": [
    "from flask import Flask, request, send_file\n",
    "import pandas as pd\n",
    "import io\n",
    "\n",
    "app = Flask(__name__)\n",
    "\n",
    "@app.route('/submit', methods=['GET'])\n",
    "def get_stock_data():\n",
    "    # Retrieve data from the GET request\n",
    "    stock_name = request.args.get('ticker_name')\n",
    "    start_date = request.args.get('start_date')\n",
    "    end_date = request.args.get('end_date')\n",
    "    \n",
    "    tickerDf = get_stock_data('TSLA', '2020-1-1', '2020-12-31')\n",
    "    \n",
    "     # Convert the DataFrame to an Excel file and send it as a response\n",
    "    output = io.BytesIO()\n",
    "    with pd.ExcelWriter(output, engine='xlsxwriter') as writer:\n",
    "        df.to_excel(writer, sheet_name='Sheet1', index=False)\n",
    "    \n",
    "    output.seek(0)\n",
    "    return send_file(output, attachment_filename=f\"{stock_name}_stock_data.xlsx\", as_attachment=True)\n",
    "\n",
    "if __name__ == \"__main__\":\n",
    "    app.run(debug=True)\n"
   ]
  },
  {
   "cell_type": "code",
   "execution_count": null,
   "id": "aeca1afa-c7e2-47b3-a1fb-ab6a7dddba29",
   "metadata": {},
   "outputs": [],
   "source": []
  }
 ],
 "metadata": {
  "kernelspec": {
   "display_name": "Python 3 (ipykernel)",
   "language": "python",
   "name": "python3"
  },
  "language_info": {
   "codemirror_mode": {
    "name": "ipython",
    "version": 3
   },
   "file_extension": ".py",
   "mimetype": "text/x-python",
   "name": "python",
   "nbconvert_exporter": "python",
   "pygments_lexer": "ipython3",
   "version": "3.10.12"
  }
 },
 "nbformat": 4,
 "nbformat_minor": 5
}
